{
  "nbformat": 4,
  "nbformat_minor": 0,
  "metadata": {
    "colab": {
      "name": "June1_19_US_EducationData.ipynb",
      "version": "0.3.2",
      "provenance": [],
      "collapsed_sections": [],
      "include_colab_link": true
    },
    "kernelspec": {
      "name": "python3",
      "display_name": "Python 3"
    }
  },
  "cells": [
    {
      "cell_type": "markdown",
      "metadata": {
        "id": "view-in-github",
        "colab_type": "text"
      },
      "source": [
        "<a href=\"https://colab.research.google.com/github/dilrubashowkat/MLearn/blob/master/June1_19_US_EducationData.ipynb\" target=\"_parent\"><img src=\"https://colab.research.google.com/assets/colab-badge.svg\" alt=\"Open In Colab\"/></a>"
      ]
    },
    {
      "cell_type": "code",
      "metadata": {
        "id": "k9Jg8yb2trGd",
        "colab_type": "code",
        "outputId": "7aee1181-95dc-496f-9159-35f7a0dbda98",
        "colab": {
          "base_uri": "https://localhost:8080/",
          "height": 156
        }
      },
      "source": [
        "!pip install keras"
      ],
      "execution_count": 0,
      "outputs": [
        {
          "output_type": "stream",
          "text": [
            "Requirement already satisfied: keras in /usr/local/lib/python3.6/dist-packages (2.2.4)\n",
            "Requirement already satisfied: scipy>=0.14 in /usr/local/lib/python3.6/dist-packages (from keras) (1.3.0)\n",
            "Requirement already satisfied: pyyaml in /usr/local/lib/python3.6/dist-packages (from keras) (3.13)\n",
            "Requirement already satisfied: keras-applications>=1.0.6 in /usr/local/lib/python3.6/dist-packages (from keras) (1.0.7)\n",
            "Requirement already satisfied: keras-preprocessing>=1.0.5 in /usr/local/lib/python3.6/dist-packages (from keras) (1.0.9)\n",
            "Requirement already satisfied: six>=1.9.0 in /usr/local/lib/python3.6/dist-packages (from keras) (1.12.0)\n",
            "Requirement already satisfied: numpy>=1.9.1 in /usr/local/lib/python3.6/dist-packages (from keras) (1.16.4)\n",
            "Requirement already satisfied: h5py in /usr/local/lib/python3.6/dist-packages (from keras) (2.8.0)\n"
          ],
          "name": "stdout"
        }
      ]
    },
    {
      "cell_type": "code",
      "metadata": {
        "id": "6PR2HWXzt6AL",
        "colab_type": "code",
        "colab": {}
      },
      "source": [
        "import tensorflow as tf\n"
      ],
      "execution_count": 0,
      "outputs": []
    },
    {
      "cell_type": "code",
      "metadata": {
        "id": "uANfTdP8uC_r",
        "colab_type": "code",
        "colab": {}
      },
      "source": [
        "from google.colab import files\n",
        "files.upload()"
      ],
      "execution_count": 0,
      "outputs": []
    },
    {
      "cell_type": "code",
      "metadata": {
        "id": "OXWPPCCCuQx9",
        "colab_type": "code",
        "colab": {}
      },
      "source": [
        "!pip install -q kaggle\n",
        "!mkdir -p ~/.kaggle\n",
        "!cp kaggle.json ~/.kaggle/\n",
        "!chmod 600 ~/.kaggle/kaggle.json"
      ],
      "execution_count": 0,
      "outputs": []
    },
    {
      "cell_type": "code",
      "metadata": {
        "id": "SR1B4Y0xukS8",
        "colab_type": "code",
        "colab": {}
      },
      "source": [
        "!kaggle datasets list"
      ],
      "execution_count": 0,
      "outputs": []
    },
    {
      "cell_type": "code",
      "metadata": {
        "id": "MG9QpBT1vylw",
        "colab_type": "code",
        "colab": {}
      },
      "source": [
        "!kaggle datasets download -d noriuk/us-education-datasets-unification-project\n",
        "\n",
        "#select the \"Copy API command\" in Keggle data download option"
      ],
      "execution_count": 0,
      "outputs": []
    },
    {
      "cell_type": "code",
      "metadata": {
        "id": "zbcR1yMswOYO",
        "colab_type": "code",
        "colab": {}
      },
      "source": [
        "!unzip us-education-datasets-unification-project.zip"
      ],
      "execution_count": 0,
      "outputs": []
    },
    {
      "cell_type": "code",
      "metadata": {
        "id": "o3c_JLSfweOm",
        "colab_type": "code",
        "colab": {}
      },
      "source": [
        "ls"
      ],
      "execution_count": 0,
      "outputs": []
    },
    {
      "cell_type": "code",
      "metadata": {
        "id": "lc3awl92wocH",
        "colab_type": "code",
        "colab": {}
      },
      "source": [
        "# Importing modules\n",
        "import math\n",
        "from matplotlib import pyplot as plt\n",
        "import numpy as np\n",
        "import pandas as pd\n",
        "import os, random, cv2\n",
        "#from matplotlib import style\n",
        "import seaborn as sns\n",
        "from sklearn.model_selection import GridSearchCV\n",
        "from sklearn.ensemble import RandomForestRegressor\n",
        "\n",
        "#matplotlib inline\n",
        "# Let's check the labels\n"
      ],
      "execution_count": 0,
      "outputs": []
    },
    {
      "cell_type": "code",
      "metadata": {
        "id": "fcrdzjSdzg-J",
        "colab_type": "code",
        "colab": {}
      },
      "source": [
        "df= pd.read_csv(\"states_all.csv\")\n",
        "df.describe()"
      ],
      "execution_count": 0,
      "outputs": []
    },
    {
      "cell_type": "code",
      "metadata": {
        "id": "6dz15nd47Cqu",
        "colab_type": "code",
        "outputId": "b9932a80-7ee3-4bd8-e428-fe6a2c98e4d6",
        "colab": {
          "base_uri": "https://localhost:8080/",
          "height": 222
        }
      },
      "source": [
        "df.head()"
      ],
      "execution_count": 0,
      "outputs": [
        {
          "output_type": "execute_result",
          "data": {
            "text/html": [
              "<div>\n",
              "<style scoped>\n",
              "    .dataframe tbody tr th:only-of-type {\n",
              "        vertical-align: middle;\n",
              "    }\n",
              "\n",
              "    .dataframe tbody tr th {\n",
              "        vertical-align: top;\n",
              "    }\n",
              "\n",
              "    .dataframe thead th {\n",
              "        text-align: right;\n",
              "    }\n",
              "</style>\n",
              "<table border=\"1\" class=\"dataframe\">\n",
              "  <thead>\n",
              "    <tr style=\"text-align: right;\">\n",
              "      <th></th>\n",
              "      <th>PRIMARY_KEY</th>\n",
              "      <th>STATE</th>\n",
              "      <th>YEAR</th>\n",
              "      <th>ENROLL</th>\n",
              "      <th>TOTAL_REVENUE</th>\n",
              "      <th>FEDERAL_REVENUE</th>\n",
              "      <th>STATE_REVENUE</th>\n",
              "      <th>LOCAL_REVENUE</th>\n",
              "      <th>TOTAL_EXPENDITURE</th>\n",
              "      <th>INSTRUCTION_EXPENDITURE</th>\n",
              "      <th>SUPPORT_SERVICES_EXPENDITURE</th>\n",
              "      <th>OTHER_EXPENDITURE</th>\n",
              "      <th>CAPITAL_OUTLAY_EXPENDITURE</th>\n",
              "      <th>GRADES_PK_G</th>\n",
              "      <th>GRADES_KG_G</th>\n",
              "      <th>GRADES_4_G</th>\n",
              "      <th>GRADES_8_G</th>\n",
              "      <th>GRADES_12_G</th>\n",
              "      <th>GRADES_1_8_G</th>\n",
              "      <th>GRADES_9_12_G</th>\n",
              "      <th>GRADES_ALL_G</th>\n",
              "      <th>AVG_MATH_4_SCORE</th>\n",
              "      <th>AVG_MATH_8_SCORE</th>\n",
              "      <th>AVG_READING_4_SCORE</th>\n",
              "      <th>AVG_READING_8_SCORE</th>\n",
              "    </tr>\n",
              "  </thead>\n",
              "  <tbody>\n",
              "    <tr>\n",
              "      <th>0</th>\n",
              "      <td>1992_ALABAMA</td>\n",
              "      <td>ALABAMA</td>\n",
              "      <td>1992</td>\n",
              "      <td>NaN</td>\n",
              "      <td>2678885.0</td>\n",
              "      <td>304177.0</td>\n",
              "      <td>1659028.0</td>\n",
              "      <td>715680.0</td>\n",
              "      <td>2653798.0</td>\n",
              "      <td>1481703.0</td>\n",
              "      <td>735036.0</td>\n",
              "      <td>NaN</td>\n",
              "      <td>174053.0</td>\n",
              "      <td>8224.0</td>\n",
              "      <td>55460.0</td>\n",
              "      <td>57948.0</td>\n",
              "      <td>58025.0</td>\n",
              "      <td>41167.0</td>\n",
              "      <td>471564.0</td>\n",
              "      <td>196386.0</td>\n",
              "      <td>676174.0</td>\n",
              "      <td>208.327876</td>\n",
              "      <td>252.187522</td>\n",
              "      <td>207.963517</td>\n",
              "      <td>NaN</td>\n",
              "    </tr>\n",
              "    <tr>\n",
              "      <th>1</th>\n",
              "      <td>1992_ALASKA</td>\n",
              "      <td>ALASKA</td>\n",
              "      <td>1992</td>\n",
              "      <td>NaN</td>\n",
              "      <td>1049591.0</td>\n",
              "      <td>106780.0</td>\n",
              "      <td>720711.0</td>\n",
              "      <td>222100.0</td>\n",
              "      <td>972488.0</td>\n",
              "      <td>498362.0</td>\n",
              "      <td>350902.0</td>\n",
              "      <td>NaN</td>\n",
              "      <td>37451.0</td>\n",
              "      <td>2371.0</td>\n",
              "      <td>10152.0</td>\n",
              "      <td>9748.0</td>\n",
              "      <td>8789.0</td>\n",
              "      <td>6714.0</td>\n",
              "      <td>79117.0</td>\n",
              "      <td>30847.0</td>\n",
              "      <td>112335.0</td>\n",
              "      <td>NaN</td>\n",
              "      <td>NaN</td>\n",
              "      <td>NaN</td>\n",
              "      <td>258.859712</td>\n",
              "    </tr>\n",
              "    <tr>\n",
              "      <th>2</th>\n",
              "      <td>1992_ARIZONA</td>\n",
              "      <td>ARIZONA</td>\n",
              "      <td>1992</td>\n",
              "      <td>NaN</td>\n",
              "      <td>3258079.0</td>\n",
              "      <td>297888.0</td>\n",
              "      <td>1369815.0</td>\n",
              "      <td>1590376.0</td>\n",
              "      <td>3401580.0</td>\n",
              "      <td>1435908.0</td>\n",
              "      <td>1007732.0</td>\n",
              "      <td>NaN</td>\n",
              "      <td>609114.0</td>\n",
              "      <td>2544.0</td>\n",
              "      <td>53497.0</td>\n",
              "      <td>55433.0</td>\n",
              "      <td>49081.0</td>\n",
              "      <td>37410.0</td>\n",
              "      <td>437127.0</td>\n",
              "      <td>175210.0</td>\n",
              "      <td>614881.0</td>\n",
              "      <td>215.253932</td>\n",
              "      <td>265.366278</td>\n",
              "      <td>206.212716</td>\n",
              "      <td>262.169895</td>\n",
              "    </tr>\n",
              "    <tr>\n",
              "      <th>3</th>\n",
              "      <td>1992_ARKANSAS</td>\n",
              "      <td>ARKANSAS</td>\n",
              "      <td>1992</td>\n",
              "      <td>NaN</td>\n",
              "      <td>1711959.0</td>\n",
              "      <td>178571.0</td>\n",
              "      <td>958785.0</td>\n",
              "      <td>574603.0</td>\n",
              "      <td>1743022.0</td>\n",
              "      <td>964323.0</td>\n",
              "      <td>483488.0</td>\n",
              "      <td>NaN</td>\n",
              "      <td>145212.0</td>\n",
              "      <td>808.0</td>\n",
              "      <td>33511.0</td>\n",
              "      <td>34632.0</td>\n",
              "      <td>36011.0</td>\n",
              "      <td>27651.0</td>\n",
              "      <td>281338.0</td>\n",
              "      <td>123113.0</td>\n",
              "      <td>405259.0</td>\n",
              "      <td>210.206028</td>\n",
              "      <td>256.312090</td>\n",
              "      <td>208.634458</td>\n",
              "      <td>264.619665</td>\n",
              "    </tr>\n",
              "    <tr>\n",
              "      <th>4</th>\n",
              "      <td>1992_CALIFORNIA</td>\n",
              "      <td>CALIFORNIA</td>\n",
              "      <td>1992</td>\n",
              "      <td>NaN</td>\n",
              "      <td>26260025.0</td>\n",
              "      <td>2072470.0</td>\n",
              "      <td>16546514.0</td>\n",
              "      <td>7641041.0</td>\n",
              "      <td>27138832.0</td>\n",
              "      <td>14358922.0</td>\n",
              "      <td>8520926.0</td>\n",
              "      <td>NaN</td>\n",
              "      <td>2044688.0</td>\n",
              "      <td>59067.0</td>\n",
              "      <td>431763.0</td>\n",
              "      <td>418418.0</td>\n",
              "      <td>363296.0</td>\n",
              "      <td>270675.0</td>\n",
              "      <td>3286034.0</td>\n",
              "      <td>1372011.0</td>\n",
              "      <td>4717112.0</td>\n",
              "      <td>208.398961</td>\n",
              "      <td>260.892247</td>\n",
              "      <td>196.764414</td>\n",
              "      <td>NaN</td>\n",
              "    </tr>\n",
              "  </tbody>\n",
              "</table>\n",
              "</div>"
            ],
            "text/plain": [
              "       PRIMARY_KEY       STATE  ...  AVG_READING_4_SCORE  AVG_READING_8_SCORE\n",
              "0     1992_ALABAMA     ALABAMA  ...           207.963517                  NaN\n",
              "1      1992_ALASKA      ALASKA  ...                  NaN           258.859712\n",
              "2     1992_ARIZONA     ARIZONA  ...           206.212716           262.169895\n",
              "3    1992_ARKANSAS    ARKANSAS  ...           208.634458           264.619665\n",
              "4  1992_CALIFORNIA  CALIFORNIA  ...           196.764414                  NaN\n",
              "\n",
              "[5 rows x 25 columns]"
            ]
          },
          "metadata": {
            "tags": []
          },
          "execution_count": 9
        }
      ]
    },
    {
      "cell_type": "code",
      "metadata": {
        "id": "YsNmSg9f0qMG",
        "colab_type": "code",
        "colab": {}
      },
      "source": [
        "!pip install -U scikit-learn\n"
      ],
      "execution_count": 0,
      "outputs": []
    },
    {
      "cell_type": "code",
      "metadata": {
        "id": "pNkScnjMyXjM",
        "colab_type": "code",
        "colab": {}
      },
      "source": [
        "from sklearn.neighbors import NearestNeighbors\n",
        "from sklearn.linear_model import LinearRegression\n",
        "from sklearn import svm\n",
        "from sklearn.model_selection import cross_val_score\n",
        "#from sklearn.model_selection import cross_val_score\n",
        "\n"
      ],
      "execution_count": 0,
      "outputs": []
    },
    {
      "cell_type": "code",
      "metadata": {
        "id": "2KKU0uwZ6pS5",
        "colab_type": "code",
        "colab": {}
      },
      "source": [
        "#https://stackoverflow.com/questions/51070985/find-out-the-percentage-of-missing-values-in-each-column-in-the-given-dataset\n",
        "df.isna().sum()*100/df.shape[0]\n"
      ],
      "execution_count": 0,
      "outputs": []
    },
    {
      "cell_type": "code",
      "metadata": {
        "id": "BpvVnqUk7RdB",
        "colab_type": "code",
        "colab": {}
      },
      "source": [
        "corr = df.corr()\n",
        "fig, ax = plt.subplots(figsize=(16, 16))\n",
        "sns.heatmap(corr, annot=True,\n",
        "            xticklabels=corr.columns.values,\n",
        "            yticklabels=corr.columns.values)\n",
        "\n",
        "\n",
        "\n"
      ],
      "execution_count": 0,
      "outputs": []
    },
    {
      "cell_type": "code",
      "metadata": {
        "id": "4g9_d0pX-ZWF",
        "colab_type": "code",
        "colab": {}
      },
      "source": [
        "fig, ax = plt.subplots(figsize=(16, 16))\n",
        "sns.violinplot(x=\"TOTAL_REVENUE\", y=\"STATE\", data=df)\n"
      ],
      "execution_count": 0,
      "outputs": []
    },
    {
      "cell_type": "code",
      "metadata": {
        "id": "sGuxxIp2NdX6",
        "colab_type": "code",
        "outputId": "47122188-0e99-4a84-daa8-8db880350d0e",
        "colab": {
          "base_uri": "https://localhost:8080/",
          "height": 173
        }
      },
      "source": [
        "df.columns"
      ],
      "execution_count": 0,
      "outputs": [
        {
          "output_type": "execute_result",
          "data": {
            "text/plain": [
              "Index(['PRIMARY_KEY', 'STATE', 'YEAR', 'ENROLL', 'TOTAL_REVENUE',\n",
              "       'FEDERAL_REVENUE', 'STATE_REVENUE', 'LOCAL_REVENUE',\n",
              "       'TOTAL_EXPENDITURE', 'INSTRUCTION_EXPENDITURE',\n",
              "       'SUPPORT_SERVICES_EXPENDITURE', 'OTHER_EXPENDITURE',\n",
              "       'CAPITAL_OUTLAY_EXPENDITURE', 'GRADES_PK_G', 'GRADES_KG_G',\n",
              "       'GRADES_4_G', 'GRADES_8_G', 'GRADES_12_G', 'GRADES_1_8_G',\n",
              "       'GRADES_9_12_G', 'GRADES_ALL_G', 'AVG_MATH_4_SCORE', 'AVG_MATH_8_SCORE',\n",
              "       'AVG_READING_4_SCORE', 'AVG_READING_8_SCORE'],\n",
              "      dtype='object')"
            ]
          },
          "metadata": {
            "tags": []
          },
          "execution_count": 12
        }
      ]
    },
    {
      "cell_type": "code",
      "metadata": {
        "id": "lvO9DdIwO0Xe",
        "colab_type": "code",
        "outputId": "0c2bd422-1cb3-4d90-ecd6-458f0b192386",
        "colab": {
          "base_uri": "https://localhost:8080/",
          "height": 974
        }
      },
      "source": [
        "fig, ax = plt.subplots(figsize=(16, 16))\n",
        "sns.violinplot(x=\"TOTAL_EXPENDITURE\", y=\"STATE\", data=df)\n"
      ],
      "execution_count": 0,
      "outputs": [
        {
          "output_type": "execute_result",
          "data": {
            "text/plain": [
              "<matplotlib.axes._subplots.AxesSubplot at 0x7fa24eb3efd0>"
            ]
          },
          "metadata": {
            "tags": []
          },
          "execution_count": 13
        },
        {
          "output_type": "display_data",
          "data": {
            "image/png": "[encoded data removed]",
            "text/plain": [
              "<Figure size 1152x1152 with 1 Axes>"
            ]
          },
          "metadata": {
            "tags": []
          }
        }
      ]
    },
    {
      "cell_type": "code",
      "metadata": {
        "id": "B7kbjj_vPDb_",
        "colab_type": "code",
        "colab": {}
      },
      "source": [
        "fig, ax = plt.subplots(figsize=(16, 16))\n",
        "sns.violinplot(x=\"GRADES_ALL_G\", y=\"STATE\", data=df)\n"
      ],
      "execution_count": 0,
      "outputs": []
    },
    {
      "cell_type": "code",
      "metadata": {
        "id": "fbwbgTA3AXV3",
        "colab_type": "code",
        "colab": {}
      },
      "source": [
        "df['average_reveneue']=df['TOTAL_REVENUE']/df['GRADES_ALL_G']\n",
        "df['average_expenditure']=df['TOTAL_EXPENDITURE']/df['GRADES_ALL_G']\n"
      ],
      "execution_count": 0,
      "outputs": []
    },
    {
      "cell_type": "code",
      "metadata": {
        "id": "dsLZK_nOAKYn",
        "colab_type": "code",
        "outputId": "eb7bcdd1-711c-4ee6-c189-55b99fb3c260",
        "colab": {
          "base_uri": "https://localhost:8080/",
          "height": 459
        }
      },
      "source": [
        "sns.jointplot(\"average_expenditure\", \"AVG_MATH_4_SCORE\", data=df, kind=\"reg\")\n"
      ],
      "execution_count": 0,
      "outputs": [
        {
          "output_type": "execute_result",
          "data": {
            "text/plain": [
              "<seaborn.axisgrid.JointGrid at 0x7fa275e25198>"
            ]
          },
          "metadata": {
            "tags": []
          },
          "execution_count": 15
        },
        {
          "output_type": "display_data",
          "data": {
            "image/png": "[encoded data removed]",
            "text/plain": [
              "<Figure size 432x432 with 3 Axes>"
            ]
          },
          "metadata": {
            "tags": []
          }
        }
      ]
    },
    {
      "cell_type": "code",
      "metadata": {
        "id": "2DiKOx4iIgvL",
        "colab_type": "code",
        "outputId": "47b071c2-3a75-48a9-c46c-9eda91c37986",
        "colab": {
          "base_uri": "https://localhost:8080/",
          "height": 222
        }
      },
      "source": [
        "df1=df.drop(['PRIMARY_KEY','AVG_MATH_8_SCORE','AVG_READING_4_SCORE','AVG_READING_8_SCORE','ENROLL'],axis=1)\n",
        "df2=df1.dropna()\n",
        "#df2.tail()\n",
        "df3 = pd.get_dummies(df2, columns=['STATE'])\n",
        "df3.head()\n",
        "\n"
      ],
      "execution_count": 0,
      "outputs": [
        {
          "output_type": "execute_result",
          "data": {
            "text/html": [
              "<div>\n",
              "<style scoped>\n",
              "    .dataframe tbody tr th:only-of-type {\n",
              "        vertical-align: middle;\n",
              "    }\n",
              "\n",
              "    .dataframe tbody tr th {\n",
              "        vertical-align: top;\n",
              "    }\n",
              "\n",
              "    .dataframe thead th {\n",
              "        text-align: right;\n",
              "    }\n",
              "</style>\n",
              "<table border=\"1\" class=\"dataframe\">\n",
              "  <thead>\n",
              "    <tr style=\"text-align: right;\">\n",
              "      <th></th>\n",
              "      <th>YEAR</th>\n",
              "      <th>TOTAL_REVENUE</th>\n",
              "      <th>FEDERAL_REVENUE</th>\n",
              "      <th>STATE_REVENUE</th>\n",
              "      <th>LOCAL_REVENUE</th>\n",
              "      <th>TOTAL_EXPENDITURE</th>\n",
              "      <th>INSTRUCTION_EXPENDITURE</th>\n",
              "      <th>SUPPORT_SERVICES_EXPENDITURE</th>\n",
              "      <th>OTHER_EXPENDITURE</th>\n",
              "      <th>CAPITAL_OUTLAY_EXPENDITURE</th>\n",
              "      <th>GRADES_PK_G</th>\n",
              "      <th>GRADES_KG_G</th>\n",
              "      <th>GRADES_4_G</th>\n",
              "      <th>GRADES_8_G</th>\n",
              "      <th>GRADES_12_G</th>\n",
              "      <th>GRADES_1_8_G</th>\n",
              "      <th>GRADES_9_12_G</th>\n",
              "      <th>GRADES_ALL_G</th>\n",
              "      <th>AVG_MATH_4_SCORE</th>\n",
              "      <th>average_reveneue</th>\n",
              "      <th>average_expenditure</th>\n",
              "      <th>STATE_ALABAMA</th>\n",
              "      <th>STATE_ALASKA</th>\n",
              "      <th>STATE_ARIZONA</th>\n",
              "      <th>STATE_ARKANSAS</th>\n",
              "      <th>STATE_CALIFORNIA</th>\n",
              "      <th>STATE_COLORADO</th>\n",
              "      <th>STATE_CONNECTICUT</th>\n",
              "      <th>STATE_DELAWARE</th>\n",
              "      <th>STATE_DISTRICT_OF_COLUMBIA</th>\n",
              "      <th>STATE_FLORIDA</th>\n",
              "      <th>STATE_GEORGIA</th>\n",
              "      <th>STATE_HAWAII</th>\n",
              "      <th>STATE_IDAHO</th>\n",
              "      <th>STATE_ILLINOIS</th>\n",
              "      <th>STATE_INDIANA</th>\n",
              "      <th>STATE_IOWA</th>\n",
              "      <th>STATE_KANSAS</th>\n",
              "      <th>STATE_KENTUCKY</th>\n",
              "      <th>STATE_LOUISIANA</th>\n",
              "      <th>STATE_MAINE</th>\n",
              "      <th>STATE_MARYLAND</th>\n",
              "      <th>STATE_MASSACHUSETTS</th>\n",
              "      <th>STATE_MICHIGAN</th>\n",
              "      <th>STATE_MINNESOTA</th>\n",
              "      <th>STATE_MISSISSIPPI</th>\n",
              "      <th>STATE_MISSOURI</th>\n",
              "      <th>STATE_MONTANA</th>\n",
              "      <th>STATE_NEBRASKA</th>\n",
              "      <th>STATE_NEVADA</th>\n",
              "      <th>STATE_NEW_HAMPSHIRE</th>\n",
              "      <th>STATE_NEW_JERSEY</th>\n",
              "      <th>STATE_NEW_MEXICO</th>\n",
              "      <th>STATE_NEW_YORK</th>\n",
              "      <th>STATE_NORTH_CAROLINA</th>\n",
              "      <th>STATE_NORTH_DAKOTA</th>\n",
              "      <th>STATE_OHIO</th>\n",
              "      <th>STATE_OKLAHOMA</th>\n",
              "      <th>STATE_OREGON</th>\n",
              "      <th>STATE_PENNSYLVANIA</th>\n",
              "      <th>STATE_RHODE_ISLAND</th>\n",
              "      <th>STATE_SOUTH_CAROLINA</th>\n",
              "      <th>STATE_SOUTH_DAKOTA</th>\n",
              "      <th>STATE_TENNESSEE</th>\n",
              "      <th>STATE_TEXAS</th>\n",
              "      <th>STATE_UTAH</th>\n",
              "      <th>STATE_VERMONT</th>\n",
              "      <th>STATE_VIRGINIA</th>\n",
              "      <th>STATE_WASHINGTON</th>\n",
              "      <th>STATE_WEST_VIRGINIA</th>\n",
              "      <th>STATE_WISCONSIN</th>\n",
              "      <th>STATE_WYOMING</th>\n",
              "    </tr>\n",
              "  </thead>\n",
              "  <tbody>\n",
              "    <tr>\n",
              "      <th>204</th>\n",
              "      <td>1996</td>\n",
              "      <td>3365113.0</td>\n",
              "      <td>334858.0</td>\n",
              "      <td>2138717.0</td>\n",
              "      <td>891538.0</td>\n",
              "      <td>3572283.0</td>\n",
              "      <td>1987018.0</td>\n",
              "      <td>935115.0</td>\n",
              "      <td>322883.0</td>\n",
              "      <td>286699.0</td>\n",
              "      <td>9633.0</td>\n",
              "      <td>60949.0</td>\n",
              "      <td>57098.0</td>\n",
              "      <td>58305.0</td>\n",
              "      <td>42510.0</td>\n",
              "      <td>469370.0</td>\n",
              "      <td>207980.0</td>\n",
              "      <td>686983.0</td>\n",
              "      <td>211.646974</td>\n",
              "      <td>4.898393</td>\n",
              "      <td>5.199958</td>\n",
              "      <td>1</td>\n",
              "      <td>0</td>\n",
              "      <td>0</td>\n",
              "      <td>0</td>\n",
              "      <td>0</td>\n",
              "      <td>0</td>\n",
              "      <td>0</td>\n",
              "      <td>0</td>\n",
              "      <td>0</td>\n",
              "      <td>0</td>\n",
              "      <td>0</td>\n",
              "      <td>0</td>\n",
              "      <td>0</td>\n",
              "      <td>0</td>\n",
              "      <td>0</td>\n",
              "      <td>0</td>\n",
              "      <td>0</td>\n",
              "      <td>0</td>\n",
              "      <td>0</td>\n",
              "      <td>0</td>\n",
              "      <td>0</td>\n",
              "      <td>0</td>\n",
              "      <td>0</td>\n",
              "      <td>0</td>\n",
              "      <td>0</td>\n",
              "      <td>0</td>\n",
              "      <td>0</td>\n",
              "      <td>0</td>\n",
              "      <td>0</td>\n",
              "      <td>0</td>\n",
              "      <td>0</td>\n",
              "      <td>0</td>\n",
              "      <td>0</td>\n",
              "      <td>0</td>\n",
              "      <td>0</td>\n",
              "      <td>0</td>\n",
              "      <td>0</td>\n",
              "      <td>0</td>\n",
              "      <td>0</td>\n",
              "      <td>0</td>\n",
              "      <td>0</td>\n",
              "      <td>0</td>\n",
              "      <td>0</td>\n",
              "      <td>0</td>\n",
              "      <td>0</td>\n",
              "      <td>0</td>\n",
              "      <td>0</td>\n",
              "      <td>0</td>\n",
              "      <td>0</td>\n",
              "      <td>0</td>\n",
              "      <td>0</td>\n",
              "    </tr>\n",
              "    <tr>\n",
              "      <th>205</th>\n",
              "      <td>1996</td>\n",
              "      <td>1120346.0</td>\n",
              "      <td>123505.0</td>\n",
              "      <td>706116.0</td>\n",
              "      <td>290725.0</td>\n",
              "      <td>1240031.0</td>\n",
              "      <td>636959.0</td>\n",
              "      <td>365085.0</td>\n",
              "      <td>38996.0</td>\n",
              "      <td>179297.0</td>\n",
              "      <td>2186.0</td>\n",
              "      <td>10451.0</td>\n",
              "      <td>10055.0</td>\n",
              "      <td>9627.0</td>\n",
              "      <td>7370.0</td>\n",
              "      <td>81725.0</td>\n",
              "      <td>35557.0</td>\n",
              "      <td>119468.0</td>\n",
              "      <td>223.833455</td>\n",
              "      <td>9.377792</td>\n",
              "      <td>10.379608</td>\n",
              "      <td>0</td>\n",
              "      <td>1</td>\n",
              "      <td>0</td>\n",
              "      <td>0</td>\n",
              "      <td>0</td>\n",
              "      <td>0</td>\n",
              "      <td>0</td>\n",
              "      <td>0</td>\n",
              "      <td>0</td>\n",
              "      <td>0</td>\n",
              "      <td>0</td>\n",
              "      <td>0</td>\n",
              "      <td>0</td>\n",
              "      <td>0</td>\n",
              "      <td>0</td>\n",
              "      <td>0</td>\n",
              "      <td>0</td>\n",
              "      <td>0</td>\n",
              "      <td>0</td>\n",
              "      <td>0</td>\n",
              "      <td>0</td>\n",
              "      <td>0</td>\n",
              "      <td>0</td>\n",
              "      <td>0</td>\n",
              "      <td>0</td>\n",
              "      <td>0</td>\n",
              "      <td>0</td>\n",
              "      <td>0</td>\n",
              "      <td>0</td>\n",
              "      <td>0</td>\n",
              "      <td>0</td>\n",
              "      <td>0</td>\n",
              "      <td>0</td>\n",
              "      <td>0</td>\n",
              "      <td>0</td>\n",
              "      <td>0</td>\n",
              "      <td>0</td>\n",
              "      <td>0</td>\n",
              "      <td>0</td>\n",
              "      <td>0</td>\n",
              "      <td>0</td>\n",
              "      <td>0</td>\n",
              "      <td>0</td>\n",
              "      <td>0</td>\n",
              "      <td>0</td>\n",
              "      <td>0</td>\n",
              "      <td>0</td>\n",
              "      <td>0</td>\n",
              "      <td>0</td>\n",
              "      <td>0</td>\n",
              "      <td>0</td>\n",
              "    </tr>\n",
              "    <tr>\n",
              "      <th>206</th>\n",
              "      <td>1996</td>\n",
              "      <td>4143304.0</td>\n",
              "      <td>378917.0</td>\n",
              "      <td>1798363.0</td>\n",
              "      <td>1966024.0</td>\n",
              "      <td>4391555.0</td>\n",
              "      <td>1860007.0</td>\n",
              "      <td>1193260.0</td>\n",
              "      <td>220650.0</td>\n",
              "      <td>877190.0</td>\n",
              "      <td>4495.0</td>\n",
              "      <td>64613.0</td>\n",
              "      <td>62793.0</td>\n",
              "      <td>60514.0</td>\n",
              "      <td>42041.0</td>\n",
              "      <td>511925.0</td>\n",
              "      <td>210289.0</td>\n",
              "      <td>726709.0</td>\n",
              "      <td>217.575940</td>\n",
              "      <td>5.701462</td>\n",
              "      <td>6.043072</td>\n",
              "      <td>0</td>\n",
              "      <td>0</td>\n",
              "      <td>1</td>\n",
              "      <td>0</td>\n",
              "      <td>0</td>\n",
              "      <td>0</td>\n",
              "      <td>0</td>\n",
              "      <td>0</td>\n",
              "      <td>0</td>\n",
              "      <td>0</td>\n",
              "      <td>0</td>\n",
              "      <td>0</td>\n",
              "      <td>0</td>\n",
              "      <td>0</td>\n",
              "      <td>0</td>\n",
              "      <td>0</td>\n",
              "      <td>0</td>\n",
              "      <td>0</td>\n",
              "      <td>0</td>\n",
              "      <td>0</td>\n",
              "      <td>0</td>\n",
              "      <td>0</td>\n",
              "      <td>0</td>\n",
              "      <td>0</td>\n",
              "      <td>0</td>\n",
              "      <td>0</td>\n",
              "      <td>0</td>\n",
              "      <td>0</td>\n",
              "      <td>0</td>\n",
              "      <td>0</td>\n",
              "      <td>0</td>\n",
              "      <td>0</td>\n",
              "      <td>0</td>\n",
              "      <td>0</td>\n",
              "      <td>0</td>\n",
              "      <td>0</td>\n",
              "      <td>0</td>\n",
              "      <td>0</td>\n",
              "      <td>0</td>\n",
              "      <td>0</td>\n",
              "      <td>0</td>\n",
              "      <td>0</td>\n",
              "      <td>0</td>\n",
              "      <td>0</td>\n",
              "      <td>0</td>\n",
              "      <td>0</td>\n",
              "      <td>0</td>\n",
              "      <td>0</td>\n",
              "      <td>0</td>\n",
              "      <td>0</td>\n",
              "      <td>0</td>\n",
              "    </tr>\n",
              "    <tr>\n",
              "      <th>207</th>\n",
              "      <td>1996</td>\n",
              "      <td>2183384.0</td>\n",
              "      <td>192152.0</td>\n",
              "      <td>1296247.0</td>\n",
              "      <td>694985.0</td>\n",
              "      <td>2297381.0</td>\n",
              "      <td>1264275.0</td>\n",
              "      <td>636106.0</td>\n",
              "      <td>127007.0</td>\n",
              "      <td>203555.0</td>\n",
              "      <td>1980.0</td>\n",
              "      <td>36442.0</td>\n",
              "      <td>33855.0</td>\n",
              "      <td>37064.0</td>\n",
              "      <td>27613.0</td>\n",
              "      <td>283883.0</td>\n",
              "      <td>131997.0</td>\n",
              "      <td>417860.0</td>\n",
              "      <td>215.846436</td>\n",
              "      <td>5.225157</td>\n",
              "      <td>5.497968</td>\n",
              "      <td>0</td>\n",
              "      <td>0</td>\n",
              "      <td>0</td>\n",
              "      <td>1</td>\n",
              "      <td>0</td>\n",
              "      <td>0</td>\n",
              "      <td>0</td>\n",
              "      <td>0</td>\n",
              "      <td>0</td>\n",
              "      <td>0</td>\n",
              "      <td>0</td>\n",
              "      <td>0</td>\n",
              "      <td>0</td>\n",
              "      <td>0</td>\n",
              "      <td>0</td>\n",
              "      <td>0</td>\n",
              "      <td>0</td>\n",
              "      <td>0</td>\n",
              "      <td>0</td>\n",
              "      <td>0</td>\n",
              "      <td>0</td>\n",
              "      <td>0</td>\n",
              "      <td>0</td>\n",
              "      <td>0</td>\n",
              "      <td>0</td>\n",
              "      <td>0</td>\n",
              "      <td>0</td>\n",
              "      <td>0</td>\n",
              "      <td>0</td>\n",
              "      <td>0</td>\n",
              "      <td>0</td>\n",
              "      <td>0</td>\n",
              "      <td>0</td>\n",
              "      <td>0</td>\n",
              "      <td>0</td>\n",
              "      <td>0</td>\n",
              "      <td>0</td>\n",
              "      <td>0</td>\n",
              "      <td>0</td>\n",
              "      <td>0</td>\n",
              "      <td>0</td>\n",
              "      <td>0</td>\n",
              "      <td>0</td>\n",
              "      <td>0</td>\n",
              "      <td>0</td>\n",
              "      <td>0</td>\n",
              "      <td>0</td>\n",
              "      <td>0</td>\n",
              "      <td>0</td>\n",
              "      <td>0</td>\n",
              "      <td>0</td>\n",
              "    </tr>\n",
              "    <tr>\n",
              "      <th>208</th>\n",
              "      <td>1996</td>\n",
              "      <td>31282981.0</td>\n",
              "      <td>2603882.0</td>\n",
              "      <td>17061474.0</td>\n",
              "      <td>11617625.0</td>\n",
              "      <td>31561692.0</td>\n",
              "      <td>16880730.0</td>\n",
              "      <td>9222569.0</td>\n",
              "      <td>2362407.0</td>\n",
              "      <td>2580639.0</td>\n",
              "      <td>73233.0</td>\n",
              "      <td>469965.0</td>\n",
              "      <td>435217.0</td>\n",
              "      <td>406456.0</td>\n",
              "      <td>298669.0</td>\n",
              "      <td>3516572.0</td>\n",
              "      <td>1525618.0</td>\n",
              "      <td>5115423.0</td>\n",
              "      <td>209.129083</td>\n",
              "      <td>6.115424</td>\n",
              "      <td>6.169909</td>\n",
              "      <td>0</td>\n",
              "      <td>0</td>\n",
              "      <td>0</td>\n",
              "      <td>0</td>\n",
              "      <td>1</td>\n",
              "      <td>0</td>\n",
              "      <td>0</td>\n",
              "      <td>0</td>\n",
              "      <td>0</td>\n",
              "      <td>0</td>\n",
              "      <td>0</td>\n",
              "      <td>0</td>\n",
              "      <td>0</td>\n",
              "      <td>0</td>\n",
              "      <td>0</td>\n",
              "      <td>0</td>\n",
              "      <td>0</td>\n",
              "      <td>0</td>\n",
              "      <td>0</td>\n",
              "      <td>0</td>\n",
              "      <td>0</td>\n",
              "      <td>0</td>\n",
              "      <td>0</td>\n",
              "      <td>0</td>\n",
              "      <td>0</td>\n",
              "      <td>0</td>\n",
              "      <td>0</td>\n",
              "      <td>0</td>\n",
              "      <td>0</td>\n",
              "      <td>0</td>\n",
              "      <td>0</td>\n",
              "      <td>0</td>\n",
              "      <td>0</td>\n",
              "      <td>0</td>\n",
              "      <td>0</td>\n",
              "      <td>0</td>\n",
              "      <td>0</td>\n",
              "      <td>0</td>\n",
              "      <td>0</td>\n",
              "      <td>0</td>\n",
              "      <td>0</td>\n",
              "      <td>0</td>\n",
              "      <td>0</td>\n",
              "      <td>0</td>\n",
              "      <td>0</td>\n",
              "      <td>0</td>\n",
              "      <td>0</td>\n",
              "      <td>0</td>\n",
              "      <td>0</td>\n",
              "      <td>0</td>\n",
              "      <td>0</td>\n",
              "    </tr>\n",
              "  </tbody>\n",
              "</table>\n",
              "</div>"
            ],
            "text/plain": [
              "     YEAR  TOTAL_REVENUE  ...  STATE_WISCONSIN  STATE_WYOMING\n",
              "204  1996      3365113.0  ...                0              0\n",
              "205  1996      1120346.0  ...                0              0\n",
              "206  1996      4143304.0  ...                0              0\n",
              "207  1996      2183384.0  ...                0              0\n",
              "208  1996     31282981.0  ...                0              0\n",
              "\n",
              "[5 rows x 72 columns]"
            ]
          },
          "metadata": {
            "tags": []
          },
          "execution_count": 16
        }
      ]
    },
    {
      "cell_type": "code",
      "metadata": {
        "id": "qq0_RiX1KXJt",
        "colab_type": "code",
        "outputId": "51dfda78-9569-4f9a-8025-6977c69fa6b4",
        "colab": {
          "base_uri": "https://localhost:8080/",
          "height": 222
        }
      },
      "source": [
        "df4=(df3-df3.mean())/df3.std()\n",
        "df4.head()\n",
        "\n"
      ],
      "execution_count": 0,
      "outputs": [
        {
          "output_type": "execute_result",
          "data": {
            "text/html": [
              "<div>\n",
              "<style scoped>\n",
              "    .dataframe tbody tr th:only-of-type {\n",
              "        vertical-align: middle;\n",
              "    }\n",
              "\n",
              "    .dataframe tbody tr th {\n",
              "        vertical-align: top;\n",
              "    }\n",
              "\n",
              "    .dataframe thead th {\n",
              "        text-align: right;\n",
              "    }\n",
              "</style>\n",
              "<table border=\"1\" class=\"dataframe\">\n",
              "  <thead>\n",
              "    <tr style=\"text-align: right;\">\n",
              "      <th></th>\n",
              "      <th>YEAR</th>\n",
              "      <th>TOTAL_REVENUE</th>\n",
              "      <th>FEDERAL_REVENUE</th>\n",
              "      <th>STATE_REVENUE</th>\n",
              "      <th>LOCAL_REVENUE</th>\n",
              "      <th>TOTAL_EXPENDITURE</th>\n",
              "      <th>INSTRUCTION_EXPENDITURE</th>\n",
              "      <th>SUPPORT_SERVICES_EXPENDITURE</th>\n",
              "      <th>OTHER_EXPENDITURE</th>\n",
              "      <th>CAPITAL_OUTLAY_EXPENDITURE</th>\n",
              "      <th>GRADES_PK_G</th>\n",
              "      <th>GRADES_KG_G</th>\n",
              "      <th>GRADES_4_G</th>\n",
              "      <th>GRADES_8_G</th>\n",
              "      <th>GRADES_12_G</th>\n",
              "      <th>GRADES_1_8_G</th>\n",
              "      <th>GRADES_9_12_G</th>\n",
              "      <th>GRADES_ALL_G</th>\n",
              "      <th>AVG_MATH_4_SCORE</th>\n",
              "      <th>average_reveneue</th>\n",
              "      <th>average_expenditure</th>\n",
              "      <th>STATE_ALABAMA</th>\n",
              "      <th>STATE_ALASKA</th>\n",
              "      <th>STATE_ARIZONA</th>\n",
              "      <th>STATE_ARKANSAS</th>\n",
              "      <th>STATE_CALIFORNIA</th>\n",
              "      <th>STATE_COLORADO</th>\n",
              "      <th>STATE_CONNECTICUT</th>\n",
              "      <th>STATE_DELAWARE</th>\n",
              "      <th>STATE_DISTRICT_OF_COLUMBIA</th>\n",
              "      <th>STATE_FLORIDA</th>\n",
              "      <th>STATE_GEORGIA</th>\n",
              "      <th>STATE_HAWAII</th>\n",
              "      <th>STATE_IDAHO</th>\n",
              "      <th>STATE_ILLINOIS</th>\n",
              "      <th>STATE_INDIANA</th>\n",
              "      <th>STATE_IOWA</th>\n",
              "      <th>STATE_KANSAS</th>\n",
              "      <th>STATE_KENTUCKY</th>\n",
              "      <th>STATE_LOUISIANA</th>\n",
              "      <th>STATE_MAINE</th>\n",
              "      <th>STATE_MARYLAND</th>\n",
              "      <th>STATE_MASSACHUSETTS</th>\n",
              "      <th>STATE_MICHIGAN</th>\n",
              "      <th>STATE_MINNESOTA</th>\n",
              "      <th>STATE_MISSISSIPPI</th>\n",
              "      <th>STATE_MISSOURI</th>\n",
              "      <th>STATE_MONTANA</th>\n",
              "      <th>STATE_NEBRASKA</th>\n",
              "      <th>STATE_NEVADA</th>\n",
              "      <th>STATE_NEW_HAMPSHIRE</th>\n",
              "      <th>STATE_NEW_JERSEY</th>\n",
              "      <th>STATE_NEW_MEXICO</th>\n",
              "      <th>STATE_NEW_YORK</th>\n",
              "      <th>STATE_NORTH_CAROLINA</th>\n",
              "      <th>STATE_NORTH_DAKOTA</th>\n",
              "      <th>STATE_OHIO</th>\n",
              "      <th>STATE_OKLAHOMA</th>\n",
              "      <th>STATE_OREGON</th>\n",
              "      <th>STATE_PENNSYLVANIA</th>\n",
              "      <th>STATE_RHODE_ISLAND</th>\n",
              "      <th>STATE_SOUTH_CAROLINA</th>\n",
              "      <th>STATE_SOUTH_DAKOTA</th>\n",
              "      <th>STATE_TENNESSEE</th>\n",
              "      <th>STATE_TEXAS</th>\n",
              "      <th>STATE_UTAH</th>\n",
              "      <th>STATE_VERMONT</th>\n",
              "      <th>STATE_VIRGINIA</th>\n",
              "      <th>STATE_WASHINGTON</th>\n",
              "      <th>STATE_WEST_VIRGINIA</th>\n",
              "      <th>STATE_WISCONSIN</th>\n",
              "      <th>STATE_WYOMING</th>\n",
              "    </tr>\n",
              "  </thead>\n",
              "  <tbody>\n",
              "    <tr>\n",
              "      <th>204</th>\n",
              "      <td>-1.912547</td>\n",
              "      <td>-0.544436</td>\n",
              "      <td>-0.448901</td>\n",
              "      <td>-0.441482</td>\n",
              "      <td>-0.622442</td>\n",
              "      <td>-0.526301</td>\n",
              "      <td>-0.496483</td>\n",
              "      <td>-0.582627</td>\n",
              "      <td>-0.255675</td>\n",
              "      <td>-0.497933</td>\n",
              "      <td>-0.353822</td>\n",
              "      <td>-0.117955</td>\n",
              "      <td>-0.169526</td>\n",
              "      <td>-0.161903</td>\n",
              "      <td>-0.276218</td>\n",
              "      <td>-0.156570</td>\n",
              "      <td>-0.221861</td>\n",
              "      <td>-0.185220</td>\n",
              "      <td>-2.574357</td>\n",
              "      <td>-1.733294</td>\n",
              "      <td>-1.690187</td>\n",
              "      <td>6.904270</td>\n",
              "      <td>-0.136085</td>\n",
              "      <td>-0.144508</td>\n",
              "      <td>-0.144508</td>\n",
              "      <td>-0.136085</td>\n",
              "      <td>-0.136085</td>\n",
              "      <td>-0.144508</td>\n",
              "      <td>-0.136085</td>\n",
              "      <td>-0.152502</td>\n",
              "      <td>-0.136085</td>\n",
              "      <td>-0.144508</td>\n",
              "      <td>-0.144508</td>\n",
              "      <td>-0.136085</td>\n",
              "      <td>-0.136085</td>\n",
              "      <td>-0.144508</td>\n",
              "      <td>-0.144508</td>\n",
              "      <td>-0.136085</td>\n",
              "      <td>-0.144508</td>\n",
              "      <td>-0.144508</td>\n",
              "      <td>-0.144508</td>\n",
              "      <td>-0.144508</td>\n",
              "      <td>-0.144508</td>\n",
              "      <td>-0.144508</td>\n",
              "      <td>-0.144508</td>\n",
              "      <td>-0.144508</td>\n",
              "      <td>-0.144508</td>\n",
              "      <td>-0.144508</td>\n",
              "      <td>-0.144508</td>\n",
              "      <td>-0.144508</td>\n",
              "      <td>-0.127149</td>\n",
              "      <td>-0.136085</td>\n",
              "      <td>-0.144508</td>\n",
              "      <td>-0.144508</td>\n",
              "      <td>-0.144508</td>\n",
              "      <td>-0.144508</td>\n",
              "      <td>-0.136085</td>\n",
              "      <td>-0.136085</td>\n",
              "      <td>-0.136085</td>\n",
              "      <td>-0.136085</td>\n",
              "      <td>-0.144508</td>\n",
              "      <td>-0.144508</td>\n",
              "      <td>-0.127149</td>\n",
              "      <td>-0.144508</td>\n",
              "      <td>-0.144508</td>\n",
              "      <td>-0.144508</td>\n",
              "      <td>-0.144508</td>\n",
              "      <td>-0.144508</td>\n",
              "      <td>-0.136085</td>\n",
              "      <td>-0.144508</td>\n",
              "      <td>-0.136085</td>\n",
              "      <td>-0.127149</td>\n",
              "    </tr>\n",
              "    <tr>\n",
              "      <th>205</th>\n",
              "      <td>-1.912547</td>\n",
              "      <td>-0.724373</td>\n",
              "      <td>-0.616597</td>\n",
              "      <td>-0.689361</td>\n",
              "      <td>-0.724210</td>\n",
              "      <td>-0.709536</td>\n",
              "      <td>-0.697572</td>\n",
              "      <td>-0.744024</td>\n",
              "      <td>-0.768532</td>\n",
              "      <td>-0.572266</td>\n",
              "      <td>-0.575893</td>\n",
              "      <td>-0.730187</td>\n",
              "      <td>-0.738073</td>\n",
              "      <td>-0.752065</td>\n",
              "      <td>-0.760394</td>\n",
              "      <td>-0.738634</td>\n",
              "      <td>-0.752143</td>\n",
              "      <td>-0.743522</td>\n",
              "      <td>-1.278549</td>\n",
              "      <td>-0.605769</td>\n",
              "      <td>-0.368297</td>\n",
              "      <td>-0.144508</td>\n",
              "      <td>7.331594</td>\n",
              "      <td>-0.144508</td>\n",
              "      <td>-0.144508</td>\n",
              "      <td>-0.136085</td>\n",
              "      <td>-0.136085</td>\n",
              "      <td>-0.144508</td>\n",
              "      <td>-0.136085</td>\n",
              "      <td>-0.152502</td>\n",
              "      <td>-0.136085</td>\n",
              "      <td>-0.144508</td>\n",
              "      <td>-0.144508</td>\n",
              "      <td>-0.136085</td>\n",
              "      <td>-0.136085</td>\n",
              "      <td>-0.144508</td>\n",
              "      <td>-0.144508</td>\n",
              "      <td>-0.136085</td>\n",
              "      <td>-0.144508</td>\n",
              "      <td>-0.144508</td>\n",
              "      <td>-0.144508</td>\n",
              "      <td>-0.144508</td>\n",
              "      <td>-0.144508</td>\n",
              "      <td>-0.144508</td>\n",
              "      <td>-0.144508</td>\n",
              "      <td>-0.144508</td>\n",
              "      <td>-0.144508</td>\n",
              "      <td>-0.144508</td>\n",
              "      <td>-0.144508</td>\n",
              "      <td>-0.144508</td>\n",
              "      <td>-0.127149</td>\n",
              "      <td>-0.136085</td>\n",
              "      <td>-0.144508</td>\n",
              "      <td>-0.144508</td>\n",
              "      <td>-0.144508</td>\n",
              "      <td>-0.144508</td>\n",
              "      <td>-0.136085</td>\n",
              "      <td>-0.136085</td>\n",
              "      <td>-0.136085</td>\n",
              "      <td>-0.136085</td>\n",
              "      <td>-0.144508</td>\n",
              "      <td>-0.144508</td>\n",
              "      <td>-0.127149</td>\n",
              "      <td>-0.144508</td>\n",
              "      <td>-0.144508</td>\n",
              "      <td>-0.144508</td>\n",
              "      <td>-0.144508</td>\n",
              "      <td>-0.144508</td>\n",
              "      <td>-0.136085</td>\n",
              "      <td>-0.144508</td>\n",
              "      <td>-0.136085</td>\n",
              "      <td>-0.127149</td>\n",
              "    </tr>\n",
              "    <tr>\n",
              "      <th>206</th>\n",
              "      <td>-1.912547</td>\n",
              "      <td>-0.482058</td>\n",
              "      <td>-0.413943</td>\n",
              "      <td>-0.500372</td>\n",
              "      <td>-0.440440</td>\n",
              "      <td>-0.461934</td>\n",
              "      <td>-0.515401</td>\n",
              "      <td>-0.509537</td>\n",
              "      <td>-0.440364</td>\n",
              "      <td>-0.089253</td>\n",
              "      <td>-0.507038</td>\n",
              "      <td>-0.073533</td>\n",
              "      <td>-0.100698</td>\n",
              "      <td>-0.135121</td>\n",
              "      <td>-0.282680</td>\n",
              "      <td>-0.092672</td>\n",
              "      <td>-0.214759</td>\n",
              "      <td>-0.146139</td>\n",
              "      <td>-1.943920</td>\n",
              "      <td>-1.531151</td>\n",
              "      <td>-1.475018</td>\n",
              "      <td>-0.144508</td>\n",
              "      <td>-0.136085</td>\n",
              "      <td>6.904270</td>\n",
              "      <td>-0.144508</td>\n",
              "      <td>-0.136085</td>\n",
              "      <td>-0.136085</td>\n",
              "      <td>-0.144508</td>\n",
              "      <td>-0.136085</td>\n",
              "      <td>-0.152502</td>\n",
              "      <td>-0.136085</td>\n",
              "      <td>-0.144508</td>\n",
              "      <td>-0.144508</td>\n",
              "      <td>-0.136085</td>\n",
              "      <td>-0.136085</td>\n",
              "      <td>-0.144508</td>\n",
              "      <td>-0.144508</td>\n",
              "      <td>-0.136085</td>\n",
              "      <td>-0.144508</td>\n",
              "      <td>-0.144508</td>\n",
              "      <td>-0.144508</td>\n",
              "      <td>-0.144508</td>\n",
              "      <td>-0.144508</td>\n",
              "      <td>-0.144508</td>\n",
              "      <td>-0.144508</td>\n",
              "      <td>-0.144508</td>\n",
              "      <td>-0.144508</td>\n",
              "      <td>-0.144508</td>\n",
              "      <td>-0.144508</td>\n",
              "      <td>-0.144508</td>\n",
              "      <td>-0.127149</td>\n",
              "      <td>-0.136085</td>\n",
              "      <td>-0.144508</td>\n",
              "      <td>-0.144508</td>\n",
              "      <td>-0.144508</td>\n",
              "      <td>-0.144508</td>\n",
              "      <td>-0.136085</td>\n",
              "      <td>-0.136085</td>\n",
              "      <td>-0.136085</td>\n",
              "      <td>-0.136085</td>\n",
              "      <td>-0.144508</td>\n",
              "      <td>-0.144508</td>\n",
              "      <td>-0.127149</td>\n",
              "      <td>-0.144508</td>\n",
              "      <td>-0.144508</td>\n",
              "      <td>-0.144508</td>\n",
              "      <td>-0.144508</td>\n",
              "      <td>-0.144508</td>\n",
              "      <td>-0.136085</td>\n",
              "      <td>-0.144508</td>\n",
              "      <td>-0.136085</td>\n",
              "      <td>-0.127149</td>\n",
              "    </tr>\n",
              "    <tr>\n",
              "      <th>207</th>\n",
              "      <td>-1.912547</td>\n",
              "      <td>-0.639162</td>\n",
              "      <td>-0.562130</td>\n",
              "      <td>-0.587252</td>\n",
              "      <td>-0.655735</td>\n",
              "      <td>-0.626465</td>\n",
              "      <td>-0.604134</td>\n",
              "      <td>-0.667288</td>\n",
              "      <td>-0.609535</td>\n",
              "      <td>-0.555477</td>\n",
              "      <td>-0.582036</td>\n",
              "      <td>-0.415075</td>\n",
              "      <td>-0.450434</td>\n",
              "      <td>-0.419424</td>\n",
              "      <td>-0.481476</td>\n",
              "      <td>-0.435086</td>\n",
              "      <td>-0.455544</td>\n",
              "      <td>-0.449974</td>\n",
              "      <td>-2.127821</td>\n",
              "      <td>-1.651044</td>\n",
              "      <td>-1.614133</td>\n",
              "      <td>-0.144508</td>\n",
              "      <td>-0.136085</td>\n",
              "      <td>-0.144508</td>\n",
              "      <td>6.904270</td>\n",
              "      <td>-0.136085</td>\n",
              "      <td>-0.136085</td>\n",
              "      <td>-0.144508</td>\n",
              "      <td>-0.136085</td>\n",
              "      <td>-0.152502</td>\n",
              "      <td>-0.136085</td>\n",
              "      <td>-0.144508</td>\n",
              "      <td>-0.144508</td>\n",
              "      <td>-0.136085</td>\n",
              "      <td>-0.136085</td>\n",
              "      <td>-0.144508</td>\n",
              "      <td>-0.144508</td>\n",
              "      <td>-0.136085</td>\n",
              "      <td>-0.144508</td>\n",
              "      <td>-0.144508</td>\n",
              "      <td>-0.144508</td>\n",
              "      <td>-0.144508</td>\n",
              "      <td>-0.144508</td>\n",
              "      <td>-0.144508</td>\n",
              "      <td>-0.144508</td>\n",
              "      <td>-0.144508</td>\n",
              "      <td>-0.144508</td>\n",
              "      <td>-0.144508</td>\n",
              "      <td>-0.144508</td>\n",
              "      <td>-0.144508</td>\n",
              "      <td>-0.127149</td>\n",
              "      <td>-0.136085</td>\n",
              "      <td>-0.144508</td>\n",
              "      <td>-0.144508</td>\n",
              "      <td>-0.144508</td>\n",
              "      <td>-0.144508</td>\n",
              "      <td>-0.136085</td>\n",
              "      <td>-0.136085</td>\n",
              "      <td>-0.136085</td>\n",
              "      <td>-0.136085</td>\n",
              "      <td>-0.144508</td>\n",
              "      <td>-0.144508</td>\n",
              "      <td>-0.127149</td>\n",
              "      <td>-0.144508</td>\n",
              "      <td>-0.144508</td>\n",
              "      <td>-0.144508</td>\n",
              "      <td>-0.144508</td>\n",
              "      <td>-0.144508</td>\n",
              "      <td>-0.136085</td>\n",
              "      <td>-0.144508</td>\n",
              "      <td>-0.136085</td>\n",
              "      <td>-0.127149</td>\n",
              "    </tr>\n",
              "    <tr>\n",
              "      <th>208</th>\n",
              "      <td>-1.912547</td>\n",
              "      <td>1.693414</td>\n",
              "      <td>1.351434</td>\n",
              "      <td>2.140561</td>\n",
              "      <td>1.194390</td>\n",
              "      <td>1.672709</td>\n",
              "      <td>1.721911</td>\n",
              "      <td>1.763867</td>\n",
              "      <td>3.428832</td>\n",
              "      <td>1.089708</td>\n",
              "      <td>1.542742</td>\n",
              "      <td>4.840905</td>\n",
              "      <td>4.400305</td>\n",
              "      <td>4.059011</td>\n",
              "      <td>3.253265</td>\n",
              "      <td>4.418922</td>\n",
              "      <td>3.830498</td>\n",
              "      <td>4.171322</td>\n",
              "      <td>-2.842088</td>\n",
              "      <td>-1.426951</td>\n",
              "      <td>-1.442648</td>\n",
              "      <td>-0.144508</td>\n",
              "      <td>-0.136085</td>\n",
              "      <td>-0.144508</td>\n",
              "      <td>-0.144508</td>\n",
              "      <td>7.331594</td>\n",
              "      <td>-0.136085</td>\n",
              "      <td>-0.144508</td>\n",
              "      <td>-0.136085</td>\n",
              "      <td>-0.152502</td>\n",
              "      <td>-0.136085</td>\n",
              "      <td>-0.144508</td>\n",
              "      <td>-0.144508</td>\n",
              "      <td>-0.136085</td>\n",
              "      <td>-0.136085</td>\n",
              "      <td>-0.144508</td>\n",
              "      <td>-0.144508</td>\n",
              "      <td>-0.136085</td>\n",
              "      <td>-0.144508</td>\n",
              "      <td>-0.144508</td>\n",
              "      <td>-0.144508</td>\n",
              "      <td>-0.144508</td>\n",
              "      <td>-0.144508</td>\n",
              "      <td>-0.144508</td>\n",
              "      <td>-0.144508</td>\n",
              "      <td>-0.144508</td>\n",
              "      <td>-0.144508</td>\n",
              "      <td>-0.144508</td>\n",
              "      <td>-0.144508</td>\n",
              "      <td>-0.144508</td>\n",
              "      <td>-0.127149</td>\n",
              "      <td>-0.136085</td>\n",
              "      <td>-0.144508</td>\n",
              "      <td>-0.144508</td>\n",
              "      <td>-0.144508</td>\n",
              "      <td>-0.144508</td>\n",
              "      <td>-0.136085</td>\n",
              "      <td>-0.136085</td>\n",
              "      <td>-0.136085</td>\n",
              "      <td>-0.136085</td>\n",
              "      <td>-0.144508</td>\n",
              "      <td>-0.144508</td>\n",
              "      <td>-0.127149</td>\n",
              "      <td>-0.144508</td>\n",
              "      <td>-0.144508</td>\n",
              "      <td>-0.144508</td>\n",
              "      <td>-0.144508</td>\n",
              "      <td>-0.144508</td>\n",
              "      <td>-0.136085</td>\n",
              "      <td>-0.144508</td>\n",
              "      <td>-0.136085</td>\n",
              "      <td>-0.127149</td>\n",
              "    </tr>\n",
              "  </tbody>\n",
              "</table>\n",
              "</div>"
            ],
            "text/plain": [
              "         YEAR  TOTAL_REVENUE  ...  STATE_WISCONSIN  STATE_WYOMING\n",
              "204 -1.912547      -0.544436  ...        -0.136085      -0.127149\n",
              "205 -1.912547      -0.724373  ...        -0.136085      -0.127149\n",
              "206 -1.912547      -0.482058  ...        -0.136085      -0.127149\n",
              "207 -1.912547      -0.639162  ...        -0.136085      -0.127149\n",
              "208 -1.912547       1.693414  ...        -0.136085      -0.127149\n",
              "\n",
              "[5 rows x 72 columns]"
            ]
          },
          "metadata": {
            "tags": []
          },
          "execution_count": 17
        }
      ]
    },
    {
      "cell_type": "code",
      "metadata": {
        "id": "QxVfYUaTmX1b",
        "colab_type": "code",
        "outputId": "2712a575-84cf-44b1-8b56-9133fb271574",
        "colab": {
          "base_uri": "https://localhost:8080/",
          "height": 35
        }
      },
      "source": [
        "df4.shape"
      ],
      "execution_count": 0,
      "outputs": [
        {
          "output_type": "execute_result",
          "data": {
            "text/plain": [
              "(439, 72)"
            ]
          },
          "metadata": {
            "tags": []
          },
          "execution_count": 18
        }
      ]
    },
    {
      "cell_type": "code",
      "metadata": {
        "id": "vdrDAv15LAYH",
        "colab_type": "code",
        "outputId": "f0290392-822a-4a09-f655-397b44c8a335",
        "colab": {
          "base_uri": "https://localhost:8080/",
          "height": 35
        }
      },
      "source": [
        "y=df4.loc[:,'AVG_MATH_4_SCORE'].values  #target variable\n",
        "#y\n",
        "X=df4.drop(['AVG_MATH_4_SCORE'],axis=1).loc[:,:].values  #drop the solution from the source data \n",
        "print(X.shape,' ',y.shape)\n",
        "\n",
        "\n"
      ],
      "execution_count": 0,
      "outputs": [
        {
          "output_type": "stream",
          "text": [
            "(439, 71)   (439,)\n"
          ],
          "name": "stdout"
        }
      ]
    },
    {
      "cell_type": "markdown",
      "metadata": {
        "id": "lh2NJGVJ-Itv",
        "colab_type": "text"
      },
      "source": [
        "Random Forest Reggression ***Model***"
      ]
    },
    {
      "cell_type": "markdown",
      "metadata": {
        "id": "_jh106nD-cg4",
        "colab_type": "text"
      },
      "source": [
        "I am using supervised ML model here"
      ]
    },
    {
      "cell_type": "code",
      "metadata": {
        "id": "tCvO3D1oPsJZ",
        "colab_type": "code",
        "colab": {}
      },
      "source": [
        "rf=RandomForestRegressor() #set model parameters\n",
        "parameters = {'n_estimators': [4, 6, 9], \n",
        "              'max_features': ['log2', 'sqrt','auto'], \n",
        "              'max_depth': [2, 3, 5, 10], \n",
        "              'min_samples_split': [2, 3, 5],\n",
        "              'min_samples_leaf': [1,5,8]\n",
        "             }\n"
      ],
      "execution_count": 0,
      "outputs": []
    },
    {
      "cell_type": "code",
      "metadata": {
        "id": "QgHxupKzQqdy",
        "colab_type": "code",
        "outputId": "b0450c1a-e241-4732-9f8e-2cc2339b34a2",
        "colab": {
          "base_uri": "https://localhost:8080/",
          "height": 72
        }
      },
      "source": [
        "grid_obj = GridSearchCV(rf, parameters, cv=5)\n",
        "grid_obj = grid_obj.fit(X, y)\n",
        "rf = grid_obj.best_estimator_\n",
        "\n"
      ],
      "execution_count": 0,
      "outputs": [
        {
          "output_type": "stream",
          "text": [
            "/usr/local/lib/python3.6/dist-packages/sklearn/model_selection/_search.py:813: DeprecationWarning: The default of the `iid` parameter will change from True to False in version 0.22 and will be removed in 0.24. This will change numeric results when test-set sizes are unequal.\n",
            "  DeprecationWarning)\n"
          ],
          "name": "stderr"
        }
      ]
    },
    {
      "cell_type": "code",
      "metadata": {
        "id": "jOuC0QoxRPDj",
        "colab_type": "code",
        "outputId": "3806d78c-98e6-4581-a32c-4b634f0c743b",
        "colab": {
          "base_uri": "https://localhost:8080/",
          "height": 156
        }
      },
      "source": [
        "print('Params ',rf)\n",
        "print('Score ',rf.score(X, y))\n",
        "\n"
      ],
      "execution_count": 0,
      "outputs": [
        {
          "output_type": "stream",
          "text": [
            "Params  RandomForestRegressor(bootstrap=True, criterion='mse', max_depth=10,\n",
            "                      max_features='auto', max_leaf_nodes=None,\n",
            "                      min_impurity_decrease=0.0, min_impurity_split=None,\n",
            "                      min_samples_leaf=1, min_samples_split=5,\n",
            "                      min_weight_fraction_leaf=0.0, n_estimators=6, n_jobs=None,\n",
            "                      oob_score=False, random_state=None, verbose=0,\n",
            "                      warm_start=False)\n",
            "Score  0.923738126190263\n"
          ],
          "name": "stdout"
        }
      ]
    },
    {
      "cell_type": "code",
      "metadata": {
        "id": "Sxf_IxTkRwZB",
        "colab_type": "code",
        "outputId": "d3abe4df-7d06-442b-81f5-5e82c3d7f170",
        "colab": {
          "base_uri": "https://localhost:8080/",
          "height": 269
        }
      },
      "source": [
        "Y_rf=rf.predict(X)\n",
        "plt.plot(Y_rf, y, 'bo')\n",
        "plt.show()\n",
        "\n"
      ],
      "execution_count": 0,
      "outputs": [
        {
          "output_type": "display_data",
          "data": {
            "image/png": "[encoded data removed]",
            "text/plain": [
              "<Figure size 432x288 with 1 Axes>"
            ]
          },
          "metadata": {
            "tags": []
          }
        }
      ]
    },
    {
      "cell_type": "code",
      "metadata": {
        "id": "xel96Pi2Xtzh",
        "colab_type": "code",
        "outputId": "3d8f4dc5-3ab3-4a2e-9f8b-b82f5b37b3a4",
        "colab": {
          "base_uri": "https://localhost:8080/",
          "height": 202
        }
      },
      "source": [
        "feature_importances_rf = pd.DataFrame(rf.feature_importances_,\n",
        "                                   index = df4.drop(['AVG_MATH_4_SCORE'],axis=1).columns,\n",
        "                                    columns=['importance']).sort_values('importance',ascending=False)\n",
        "feature_importances_rf.head()\n"
      ],
      "execution_count": 0,
      "outputs": [
        {
          "output_type": "execute_result",
          "data": {
            "text/html": [
              "<div>\n",
              "<style scoped>\n",
              "    .dataframe tbody tr th:only-of-type {\n",
              "        vertical-align: middle;\n",
              "    }\n",
              "\n",
              "    .dataframe tbody tr th {\n",
              "        vertical-align: top;\n",
              "    }\n",
              "\n",
              "    .dataframe thead th {\n",
              "        text-align: right;\n",
              "    }\n",
              "</style>\n",
              "<table border=\"1\" class=\"dataframe\">\n",
              "  <thead>\n",
              "    <tr style=\"text-align: right;\">\n",
              "      <th></th>\n",
              "      <th>importance</th>\n",
              "    </tr>\n",
              "  </thead>\n",
              "  <tbody>\n",
              "    <tr>\n",
              "      <th>YEAR</th>\n",
              "      <td>0.469007</td>\n",
              "    </tr>\n",
              "    <tr>\n",
              "      <th>average_reveneue</th>\n",
              "      <td>0.073279</td>\n",
              "    </tr>\n",
              "    <tr>\n",
              "      <th>GRADES_ALL_G</th>\n",
              "      <td>0.070272</td>\n",
              "    </tr>\n",
              "    <tr>\n",
              "      <th>average_expenditure</th>\n",
              "      <td>0.065900</td>\n",
              "    </tr>\n",
              "    <tr>\n",
              "      <th>GRADES_9_12_G</th>\n",
              "      <td>0.036831</td>\n",
              "    </tr>\n",
              "  </tbody>\n",
              "</table>\n",
              "</div>"
            ],
            "text/plain": [
              "                     importance\n",
              "YEAR                   0.469007\n",
              "average_reveneue       0.073279\n",
              "GRADES_ALL_G           0.070272\n",
              "average_expenditure    0.065900\n",
              "GRADES_9_12_G          0.036831"
            ]
          },
          "metadata": {
            "tags": []
          },
          "execution_count": 25
        }
      ]
    },
    {
      "cell_type": "markdown",
      "metadata": {
        "id": "Jw1ZNn4j9_BP",
        "colab_type": "text"
      },
      "source": [
        "SVR ***model***"
      ]
    },
    {
      "cell_type": "code",
      "metadata": {
        "id": "-2Pf8UqsjaXG",
        "colab_type": "code",
        "outputId": "038ed13d-b49b-41cc-f1c3-36dc352e289b",
        "colab": {
          "base_uri": "https://localhost:8080/",
          "height": 124
        }
      },
      "source": [
        "#https://scikit-learn.org/stable/modules/svm.html\n",
        "from sklearn.metrics import accuracy_score\n",
        "\n",
        "from sklearn import svm\n",
        "clf = svm.SVR()\n",
        "clf.fit(X, y) "
      ],
      "execution_count": 44,
      "outputs": [
        {
          "output_type": "stream",
          "text": [
            "/usr/local/lib/python3.6/dist-packages/sklearn/svm/base.py:193: FutureWarning: The default value of gamma will change from 'auto' to 'scale' in version 0.22 to account better for unscaled features. Set gamma explicitly to 'auto' or 'scale' to avoid this warning.\n",
            "  \"avoid this warning.\", FutureWarning)\n"
          ],
          "name": "stderr"
        },
        {
          "output_type": "execute_result",
          "data": {
            "text/plain": [
              "SVR(C=1.0, cache_size=200, coef0=0.0, degree=3, epsilon=0.1,\n",
              "    gamma='auto_deprecated', kernel='rbf', max_iter=-1, shrinking=True,\n",
              "    tol=0.001, verbose=False)"
            ]
          },
          "metadata": {
            "tags": []
          },
          "execution_count": 44
        }
      ]
    },
    {
      "cell_type": "code",
      "metadata": {
        "id": "R8KnMHQc9VcA",
        "colab_type": "code",
        "outputId": "4aac63e3-c8cf-487e-babd-41491b93f5d8",
        "colab": {
          "base_uri": "https://localhost:8080/",
          "height": 35
        }
      },
      "source": [
        "clf.score(X,y)"
      ],
      "execution_count": 45,
      "outputs": [
        {
          "output_type": "execute_result",
          "data": {
            "text/plain": [
              "0.9038150613454473"
            ]
          },
          "metadata": {
            "tags": []
          },
          "execution_count": 45
        }
      ]
    },
    {
      "cell_type": "code",
      "metadata": {
        "id": "rk3HZsnsk175",
        "colab_type": "code",
        "colab": {}
      },
      "source": [
        "xx = X[0:10]\n",
        "#x.shape\n",
        "yy=clf.predict(xx)"
      ],
      "execution_count": 0,
      "outputs": []
    },
    {
      "cell_type": "code",
      "metadata": {
        "id": "dwJSFgeTmu69",
        "colab_type": "code",
        "outputId": "5e322f83-e866-432e-f4ab-5a4cdb4a2b28",
        "colab": {
          "base_uri": "https://localhost:8080/",
          "height": 52
        }
      },
      "source": [
        "#yy = y[0:5]\n",
        "yy"
      ],
      "execution_count": 0,
      "outputs": [
        {
          "output_type": "execute_result",
          "data": {
            "text/plain": [
              "array([-2.27490794, -0.95495218, -1.68569362, -1.56999795, -1.89838528,\n",
              "       -0.87679225, -0.47974638, -0.86951249, -3.07314857, -0.95950735])"
            ]
          },
          "metadata": {
            "tags": []
          },
          "execution_count": 29
        }
      ]
    },
    {
      "cell_type": "code",
      "metadata": {
        "id": "CHo-SpS9njc7",
        "colab_type": "code",
        "colab": {
          "base_uri": "https://localhost:8080/",
          "height": 269
        },
        "outputId": "4359c825-d82e-47a3-de78-d9c6d7f58512"
      },
      "source": [
        "from sklearn.metrics import accuracy_score\n",
        "\n",
        "yT=y[0:10]\n",
        "#yT\n",
        "#accuracy_score(yT,yy,normalize=False)\n",
        "plt.plot(yy,yT,'yo')\n",
        "plt.show()\n"
      ],
      "execution_count": 48,
      "outputs": [
        {
          "output_type": "display_data",
          "data": {
            "image/png": "[encoded data removed]",
            "text/plain": [
              "<Figure size 432x288 with 1 Axes>"
            ]
          },
          "metadata": {
            "tags": []
          }
        }
      ]
    },
    {
      "cell_type": "code",
      "metadata": {
        "id": "AwDREDk76e29",
        "colab_type": "code",
        "colab": {}
      },
      "source": [
        "from sklearn.linear_model import Lasso, ElasticNet\n",
        "clf = Lasso()\n",
        "parameters = {'alpha': [0.00001,0.0001,0.001, 0.01],\n",
        "              'tol': [0.00001,0.0001,0.001, 0.01]\n",
        "             }\n",
        "grid_obj = GridSearchCV(clf, parameters, cv=5)\n",
        "grid_obj = grid_obj.fit(X, y)\n",
        "clf = grid_obj.best_estimator_\n",
        "\n"
      ],
      "execution_count": 0,
      "outputs": []
    },
    {
      "cell_type": "code",
      "metadata": {
        "id": "FrKhwD75_OD0",
        "colab_type": "code",
        "colab": {
          "base_uri": "https://localhost:8080/",
          "height": 87
        },
        "outputId": "daa42c1e-c374-49f8-cde6-27138c00b569"
      },
      "source": [
        "print('Params ',clf)\n",
        "print('Score ',clf.score(X, y))\n"
      ],
      "execution_count": 50,
      "outputs": [
        {
          "output_type": "stream",
          "text": [
            "Params  Lasso(alpha=1e-05, copy_X=True, fit_intercept=True, max_iter=1000,\n",
            "      normalize=False, positive=False, precompute=False, random_state=None,\n",
            "      selection='cyclic', tol=1e-05, warm_start=False)\n",
            "Score  0.8976125612525898\n"
          ],
          "name": "stdout"
        }
      ]
    },
    {
      "cell_type": "code",
      "metadata": {
        "id": "fidqnlaBAxKu",
        "colab_type": "code",
        "colab": {
          "base_uri": "https://localhost:8080/",
          "height": 269
        },
        "outputId": "bc2a9dc1-a02c-40f9-e91f-28964b73b2be"
      },
      "source": [
        "xx = X[0:20]\n",
        "yTrue = y[0:20]\n",
        "yy=clf.predict(xx)\n",
        "plt.plot(yy, yTrue, 'mo')\n",
        "plt.show()\n",
        "\n"
      ],
      "execution_count": 51,
      "outputs": [
        {
          "output_type": "display_data",
          "data": {
            "image/png": "[encoded data removed]",
            "text/plain": [
              "<Figure size 432x288 with 1 Axes>"
            ]
          },
          "metadata": {
            "tags": []
          }
        }
      ]
    }
  ]
}