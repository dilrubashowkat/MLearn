{
  "nbformat": 4,
  "nbformat_minor": 0,
  "metadata": {
    "colab": {
      "name": "Untitled3.ipynb",
      "version": "0.3.2",
      "provenance": [],
      "include_colab_link": true
    },
    "kernelspec": {
      "name": "python3",
      "display_name": "Python 3"
    }
  },
  "cells": [
    {
      "cell_type": "markdown",
      "metadata": {
        "id": "view-in-github",
        "colab_type": "text"
      },
      "source": [
        "<a href=\"https://colab.research.google.com/github/dilrubashowkat/MLearn/blob/master/Untitled3.ipynb\" target=\"_parent\"><img src=\"https://colab.research.google.com/assets/colab-badge.svg\" alt=\"Open In Colab\"/></a>"
      ]
    },
    {
      "metadata": {
        "id": "8kuJQU2OiY5I",
        "colab_type": "code",
        "colab": {
          "base_uri": "https://localhost:8080/",
          "height": 69
        },
        "outputId": "c33d5bab-43dd-47d1-9cc8-2f04ac5ea24d"
      },
      "cell_type": "code",
      "source": [
        "!kaggle datasets download -d spscientist/students-performance-in-exams"
      ],
      "execution_count": 1,
      "outputs": [
        {
          "output_type": "stream",
          "text": [
            "Downloading students-performance-in-exams.zip to /content\n",
            "\r  0% 0.00/7.95k [00:00<?, ?B/s]\n",
            "\r100% 7.95k/7.95k [00:00<00:00, 3.20MB/s]\n"
          ],
          "name": "stdout"
        }
      ]
    }
  ]
}